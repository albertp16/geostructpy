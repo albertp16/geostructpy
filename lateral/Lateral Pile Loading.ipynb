{
 "cells": [
  {
   "cell_type": "code",
   "execution_count": 1,
   "id": "29baf5bf",
   "metadata": {},
   "outputs": [],
   "source": [
    "import math \n",
    "\n",
    "## Yield Moment \n",
    "def yieldMoment(my,d,gamma,kp):\n",
    "    B = math.pow(d,4)*gamma*kp\n",
    "    value = my/B\n",
    "    return value\n",
    "\n",
    "def kpSolver(angle):\n",
    "    angle_init = math.radians(45 + (angle/2))\n",
    "    value = math.pow(math.tan(angle_init),2)\n",
    "    return value\n",
    "\n",
    "def lateralLoad(ulr,kp,gamma,d):\n",
    "    value = kp*gamma*math.pow(d,3)*ulr \n",
    "    return value\n"
   ]
  },
  {
   "cell_type": "code",
   "execution_count": 2,
   "id": "d3b3cebe",
   "metadata": {},
   "outputs": [
    {
     "name": "stdout",
     "output_type": "stream",
     "text": [
      "\n",
      "Yield Moments\n",
      "\n",
      "156.8230410186736\n",
      "156.8230410186736\n",
      "99.83985247209002\n",
      "91.37420808562301\n",
      "59.18154121285811\n",
      "\n",
      "Ultimate lateral resistance\n",
      "\n",
      "264.7122577163701\n",
      "264.7122577163701\n",
      "393.9117148735178\n",
      "406.49538341491984\n",
      "332.2665031529744\n"
     ]
    }
   ],
   "source": [
    "my = 268.91*0.65 ##kN.m\n",
    "d = .400 ##meter\n",
    "gamma = 17 ##kN/m^3\n",
    "\n",
    "friction_angle = [26,26,37,39,48]\n",
    "\n",
    "##Sorrensen and Okkels (NC clay)\n",
    "##Sorrensen and Okkels (OC clay)\n",
    "##Peak Handson and Thornburn \n",
    "##JRA\n",
    "##Hatanaka and Uchida\n",
    "print('\\nYield Moments\\n')\n",
    "\n",
    "for i in friction_angle:\n",
    "    kp = kpSolver(i)\n",
    "    yM = yieldMoment(my,d,gamma,kp)\n",
    "    print(yM)\n",
    "\n",
    "qlr = [95,95,90,85,45]\n",
    "\n",
    "i = 0\n",
    "n = len(friction_angle)\n",
    "print('\\nUltimate lateral resistance\\n')\n",
    "while i < n:\n",
    "    qlr_index = qlr[i]\n",
    "    kp = kpSolver(friction_angle[i])\n",
    "    value = lateralLoad(qlr_index,kp,gamma,d) ## \n",
    "    print(value)\n",
    "    i = i + 1"
   ]
  },
  {
   "cell_type": "code",
   "execution_count": 3,
   "id": "aef67e81",
   "metadata": {},
   "outputs": [
    {
     "name": "stdout",
     "output_type": "stream",
     "text": [
      "163.67770440636298\n"
     ]
    }
   ],
   "source": [
    "##Check for pile head deflections \n",
    "\n",
    "def nValue(nh,ep,ip):\n",
    "    A = nh/(ep*ip)\n",
    "    value = math.pow(A,1/5)\n",
    "    return value\n",
    "fc = 34473.8 ##Kpa\n",
    "b = .400 #m\n",
    "h = b\n",
    "\n",
    "nh = 9000 ##kN/m3 --> From Das\n",
    "ep = 4700*math.sqrt(fc)*0.001 ## --> kpa\n",
    "ip = (b*math.pow(h,3))/12 ##m4\n",
    "\n",
    "n_value = nValue(nh,ep,ip)\n",
    "nL = n_value*30\n",
    "print(nL)"
   ]
  },
  {
   "cell_type": "code",
   "execution_count": 28,
   "id": "f3237c17",
   "metadata": {},
   "outputs": [
    {
     "name": "stdout",
     "output_type": "stream",
     "text": [
      "Option 1 0.010471975511965976\n",
      "Option 2 0.017453292519943295\n",
      "0.014986956521739129\n"
     ]
    }
   ],
   "source": [
    "##NSCP Requirements Checks \n",
    "\n",
    "fc = 34.47 ##Concrete Strength\n",
    "fyh = 276 ##Spiral Reinforcement \n",
    "\n",
    "ps = 0.12*(fc/fyh) \n",
    "\n",
    "db = 6 #diameters\n",
    "abs = (math.pi/4)*math.pow(6,2)\n",
    "dch = 300\n",
    "s = 36 #spiral spacing\n",
    "spiral_ratio = (4*abs)/(dch*s)\n",
    "\n",
    "db2 = 6 #diameters\n",
    "abs2= (math.pi/4)*math.pow(10,2)\n",
    "dch2 = 300\n",
    "s2 = 60 #spiral spacing\n",
    "spiral_ratio2 = (4*abs2)/(dch2*s2)\n",
    "\n",
    "\n",
    "print('Option 1 ' + str(spiral_ratio))\n",
    "print('Option 2 ' + str(spiral_ratio2))\n",
    "print(ps)\n"
   ]
  },
  {
   "cell_type": "code",
   "execution_count": 23,
   "id": "ec7fe2d4",
   "metadata": {},
   "outputs": [
    {
     "name": "stdout",
     "output_type": "stream",
     "text": [
      "From Eq. 308.5.2 = 0.004960622987117552\n",
      "From Eq. 308.5.3 = 0.011925543478260867\n",
      "From Eq. 308.5.4 = 0.021\n"
     ]
    }
   ],
   "source": [
    "##Transerve reinforcement (Spiral)\n",
    "fc = 34.47 ##Mpa Concrete Strength\n",
    "fyh = 276 ##Mpa Spiral Reinforcement \n",
    "hc = 300 #mm2\n",
    "ag = 400*400 #mm2\n",
    "ach = 300*300 #mm2\n",
    "P = 1165*1000 #N (Maximum Axial Capacity) Note: 0.65 factor\n",
    "ps = 0.25*(fc/fyh)*((ag/ach)-1)*(0.5 - 1.4*(P/(fc*ag)))\n",
    "ps2 = 0.12*(fc/fyh)*(0.5 + ((1.4*P)/(fc*ag)))\n",
    "print('From Eq. 308.5.2 = ' + str(ps))\n",
    "print('From Eq. 308.5.3 = ' + str(ps2))\n",
    "print('From Eq. 308.5.4 = ' + str(0.021))"
   ]
  },
  {
   "cell_type": "code",
   "execution_count": 26,
   "id": "ee9ac25e",
   "metadata": {},
   "outputs": [
    {
     "name": "stdout",
     "output_type": "stream",
     "text": [
      "80.0\n",
      "36\n",
      "60\n",
      "203\n",
      "govern option 1 : 36 mm\n",
      "govern option 2 : 60 mm\n"
     ]
    }
   ],
   "source": [
    "##pile spacing \n",
    "\n",
    "condition_1 = (1/5)*400 #mm \n",
    "condition_2a = 6*6 #mm Option 1\n",
    "condition_2b = 6*10 #mm option 2\n",
    "condition_3 = 203 #mm \n",
    "\n",
    "print(condition_1)\n",
    "print(condition_2a)\n",
    "print(condition_2b)\n",
    "print(condition_3)\n",
    "\n",
    "govern = min(condition_1,condition_2a,condition_3)\n",
    "govern2 = min(condition_1,condition_2b,condition_3)\n",
    "print('govern option 1 : ' + str(govern) + ' mm')\n",
    "print('govern option 2 : ' + str(govern2) + ' mm')"
   ]
  },
  {
   "cell_type": "code",
   "execution_count": 19,
   "id": "37d73f92",
   "metadata": {},
   "outputs": [
    {
     "name": "stdout",
     "output_type": "stream",
     "text": [
      "9200\n"
     ]
    }
   ],
   "source": [
    "##ductile length \n",
    "\n",
    "condition_1 = 10668 \n",
    "condition_2 = 8000 + 3*400 ##from Lpile\n",
    "\n",
    "govern = min(condition_1,condition_2)\n",
    "print(govern)"
   ]
  },
  {
   "cell_type": "code",
   "execution_count": null,
   "id": "dbb1fcaf",
   "metadata": {},
   "outputs": [],
   "source": []
  }
 ],
 "metadata": {
  "kernelspec": {
   "display_name": "Python 3 (ipykernel)",
   "language": "python",
   "name": "python3"
  },
  "language_info": {
   "codemirror_mode": {
    "name": "ipython",
    "version": 3
   },
   "file_extension": ".py",
   "mimetype": "text/x-python",
   "name": "python",
   "nbconvert_exporter": "python",
   "pygments_lexer": "ipython3",
   "version": "3.9.13"
  }
 },
 "nbformat": 4,
 "nbformat_minor": 5
}
