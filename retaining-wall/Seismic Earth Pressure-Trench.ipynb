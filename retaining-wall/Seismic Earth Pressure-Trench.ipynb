{
 "cells": [
  {
   "cell_type": "code",
   "execution_count": 5,
   "id": "95241b8e",
   "metadata": {},
   "outputs": [],
   "source": [
    "import math"
   ]
  },
  {
   "cell_type": "code",
   "execution_count": 6,
   "id": "33e5a371",
   "metadata": {},
   "outputs": [
    {
     "name": "stdout",
     "output_type": "stream",
     "text": [
      "soil_weight = 19\n",
      "angle_friction = 35\n",
      "angle_embankment = 0\n",
      "angle_inclination = 90\n",
      "angle_friction_wall_soil = 20\n"
     ]
    }
   ],
   "source": [
    "soil_weight = 19\n",
    "h_wall = 1.4\n",
    "angle_friction = 35 ##theta\n",
    "angle_embankment = 0 #alpha\n",
    "angle_inclination = 90 ##beta\n",
    "angle_friction_wall_soil = 20 ##delta\n",
    "\n",
    "print('soil_weight = ' + str(soil_weight))\n",
    "print('angle_friction = ' + str(angle_friction))\n",
    "print('angle_embankment = ' + str(angle_embankment))\n",
    "print('angle_inclination = ' + str(angle_inclination))\n",
    "print('angle_friction_wall_soil = ' + str(angle_friction_wall_soil))\n"
   ]
  },
  {
   "cell_type": "code",
   "execution_count": 7,
   "id": "5183dfa1",
   "metadata": {},
   "outputs": [
    {
     "data": {
      "text/plain": [
       "0.315"
      ]
     },
     "execution_count": 7,
     "metadata": {},
     "output_type": "execute_result"
    }
   ],
   "source": [
    "##Seismic Paramters \n",
    "PGA = 0.63\n",
    "kh = 0.5*PGA\n",
    "kv = 0\n",
    "kh"
   ]
  },
  {
   "cell_type": "code",
   "execution_count": 8,
   "id": "ae9daaeb",
   "metadata": {},
   "outputs": [
    {
     "name": "stdout",
     "output_type": "stream",
     "text": [
      "0.315\n",
      "17.484427323220704\n"
     ]
    },
    {
     "data": {
      "text/plain": [
       "17.484427323220704"
      ]
     },
     "execution_count": 8,
     "metadata": {},
     "output_type": "execute_result"
    }
   ],
   "source": [
    "def incHorAcc(kh,kv):\n",
    "    theta_solve_init = kh/(1-kv)\n",
    "    print(theta_solve_init)\n",
    "    theta = math.atan(theta_solve_init)\n",
    "    toDegree = theta * 180 / math.pi\n",
    "    print(toDegree)\n",
    "    return toDegree\n",
    "\n",
    "coefficient_seis = incHorAcc(kh,kv)\n",
    "coefficient_seis"
   ]
  },
  {
   "cell_type": "code",
   "execution_count": 9,
   "id": "89662445",
   "metadata": {},
   "outputs": [
    {
     "data": {
      "text/plain": [
       "0.42642356364895395"
      ]
     },
     "execution_count": 9,
     "metadata": {},
     "output_type": "execute_result"
    }
   ],
   "source": [
    "#At-rest Eart Pressure\n",
    "ko = 1 - math.sin(math.radians(angle_friction))\n",
    "ko"
   ]
  },
  {
   "cell_type": "code",
   "execution_count": 10,
   "id": "0f5cfa40",
   "metadata": {},
   "outputs": [
    {
     "data": {
      "text/plain": [
       "0.24503145980474203"
      ]
     },
     "execution_count": 10,
     "metadata": {},
     "output_type": "execute_result"
    }
   ],
   "source": [
    "def staticActivePressureCoefficient(alpha,beta,delta,phi):\n",
    "    \n",
    "    varia_a = math.pow( math.sin(math.radians(beta + phi)),2) #okay\n",
    "    \n",
    "    varia_b = math.sin(math.radians(phi + delta))*math.sin(math.radians(phi - alpha))     \n",
    "    varia_c = math.sin(math.radians(beta - delta))*math.sin(math.radians(beta + alpha)) \n",
    "    \n",
    "    varia_d = math.pow(1 + math.sqrt(varia_b/varia_c),2)\n",
    "    \n",
    "    \n",
    "    varia_e = math.pow(math.sin(math.radians(beta)),2)*math.sin(math.radians(beta - delta))*varia_d \n",
    "    \n",
    "    results = varia_a/varia_e\n",
    "    return results\n",
    "    \n",
    "ka = staticActivePressureCoefficient(angle_embankment,angle_inclination,angle_friction_wall_soil,angle_friction)\n",
    "ka"
   ]
  },
  {
   "cell_type": "code",
   "execution_count": 11,
   "id": "80afad40",
   "metadata": {},
   "outputs": [
    {
     "data": {
      "text/plain": [
       "8.323856580647941"
      ]
     },
     "execution_count": 11,
     "metadata": {},
     "output_type": "execute_result"
    }
   ],
   "source": [
    "def staticPassivePressureCoefficient(alpha,beta,delta,phi):\n",
    "    \n",
    "    varia_a = math.pow( math.sin(math.radians(beta - phi)),2) #okay\n",
    "    \n",
    "    varia_b = math.sin(math.radians(phi + delta))*math.sin(math.radians(phi + alpha))     \n",
    "    varia_c = math.sin(math.radians(beta + delta))*math.sin(math.radians(beta + alpha)) \n",
    "    \n",
    "    varia_d = math.pow(1 - math.sqrt(varia_b/varia_c),2)\n",
    "    \n",
    "    \n",
    "    varia_e = math.pow(math.sin(math.radians(beta)),2)*math.sin(math.radians(beta - delta))*varia_d \n",
    "    \n",
    "    results = varia_a/varia_e\n",
    "    return results\n",
    "\n",
    "kp = staticPassivePressureCoefficient(angle_embankment,angle_inclination,angle_friction_wall_soil,angle_friction)\n",
    "kp"
   ]
  },
  {
   "cell_type": "code",
   "execution_count": 12,
   "id": "4e5ba903",
   "metadata": {},
   "outputs": [
    {
     "data": {
      "text/plain": [
       "0.4953978143569052"
      ]
     },
     "execution_count": 12,
     "metadata": {},
     "output_type": "execute_result"
    }
   ],
   "source": [
    "def staticActiveSeismicPressureCoefficient(alpha,beta,delta,phi,theta):\n",
    "    \n",
    "    varia_a = math.pow( math.sin(math.radians(beta + phi - theta)),2) \n",
    "    \n",
    "    varia_b = math.sin(math.radians(phi + delta))*math.sin(math.radians(phi - alpha - theta))     \n",
    "    varia_c = math.sin(math.radians(beta - delta - theta))*math.sin(math.radians(beta + alpha)) \n",
    "    \n",
    "    varia_d = math.pow(1 + math.sqrt(varia_b/varia_c),2)\n",
    "    \n",
    "    \n",
    "    varia_e = math.cos(math.radians(theta))*math.pow(math.sin(math.radians(beta)),2)*math.sin(math.radians(beta - delta - theta))*varia_d \n",
    "    \n",
    "    results = varia_a/varia_e\n",
    "    return results\n",
    "\n",
    "kae = staticActiveSeismicPressureCoefficient(angle_embankment,angle_inclination,angle_friction_wall_soil,angle_friction,coefficient_seis)\n",
    "kae"
   ]
  },
  {
   "cell_type": "code",
   "execution_count": 13,
   "id": "dfa64e46",
   "metadata": {},
   "outputs": [
    {
     "name": "stdout",
     "output_type": "stream",
     "text": [
      "0.25036635455216316\n"
     ]
    }
   ],
   "source": [
    "deltaKa = kae*(1 - kv) - ka \n",
    "print(deltaKa)"
   ]
  },
  {
   "cell_type": "code",
   "execution_count": 17,
   "id": "0da38d22",
   "metadata": {},
   "outputs": [
    {
     "name": "stdout",
     "output_type": "stream",
     "text": [
      "Active Earth Pressure (top) = 0.0\n",
      "Active Earth Pressure (bot) = 6.517836830806138\n",
      "Active Earth Pressure due to Seismic = 6.65974503108754\n"
     ]
    }
   ],
   "source": [
    "## Lateral Earth Pressures\n",
    "atrestbot = h_wall*soil_weight*ko\n",
    "atactivetop = 0*soil_weight*ka\n",
    "atactivebot = h_wall*soil_weight*ka\n",
    "atpassivebot = h_wall*soil_weight*kp\n",
    "\n",
    "attopseisbot = 3*soil_weight*deltaKa\n",
    "attopseistop = h_wall*soil_weight*deltaKa\n",
    "\n",
    "print(\"Active Earth Pressure (top) = \" + str(atactivetop))\n",
    "print(\"Active Earth Pressure (bot) = \" + str(atactivebot))\n",
    "\n",
    "print(\"Active Earth Pressure due to Seismic = \" + str(attopseistop))\n",
    "# print(\"Active Earth Pressure due to Seismic = \" + str(attopseisbot))"
   ]
  },
  {
   "cell_type": "code",
   "execution_count": null,
   "id": "0c89e319",
   "metadata": {},
   "outputs": [],
   "source": []
  },
  {
   "cell_type": "code",
   "execution_count": null,
   "id": "164c104b",
   "metadata": {},
   "outputs": [],
   "source": []
  },
  {
   "cell_type": "code",
   "execution_count": null,
   "id": "1672f56b",
   "metadata": {},
   "outputs": [],
   "source": []
  },
  {
   "cell_type": "code",
   "execution_count": null,
   "id": "fdd46b36",
   "metadata": {},
   "outputs": [],
   "source": []
  }
 ],
 "metadata": {
  "kernelspec": {
   "display_name": "Python 3 (ipykernel)",
   "language": "python",
   "name": "python3"
  },
  "language_info": {
   "codemirror_mode": {
    "name": "ipython",
    "version": 3
   },
   "file_extension": ".py",
   "mimetype": "text/x-python",
   "name": "python",
   "nbconvert_exporter": "python",
   "pygments_lexer": "ipython3",
   "version": "3.9.13"
  }
 },
 "nbformat": 4,
 "nbformat_minor": 5
}
