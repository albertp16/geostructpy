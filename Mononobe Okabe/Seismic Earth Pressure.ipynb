{
 "cells": [
  {
   "cell_type": "code",
   "execution_count": 5,
   "id": "71b09b4f",
   "metadata": {},
   "outputs": [],
   "source": [
    "import math"
   ]
  },
  {
   "cell_type": "code",
   "execution_count": 26,
   "id": "19d23ada",
   "metadata": {},
   "outputs": [],
   "source": [
    "soil_weight = 18\n",
    "sof = 30 ##Soil Angle of Friction\n",
    "afws = 16.50 ##delta\n",
    "sbw = 0 ##beta\n",
    "back_fill_angle = 0 ##i"
   ]
  },
  {
   "cell_type": "markdown",
   "id": "b18c47b7",
   "metadata": {},
   "source": [
    "### Mononobe-Okabe Analysis"
   ]
  },
  {
   "cell_type": "markdown",
   "id": "7e265534",
   "metadata": {},
   "source": [
    "#### Inclination of horizontal acceleration : \n",
    "$$ \\theta_{sies} = tan^{-1} \\left( \\frac{ k_{h} }{ 1.0 - k_{v} } \\right) $$"
   ]
  },
  {
   "cell_type": "code",
   "execution_count": 16,
   "id": "ad8f81dc",
   "metadata": {},
   "outputs": [],
   "source": [
    "def incHorAcc(kh,kv):\n",
    "    theta_solve_init = kh/(1-kv)\n",
    "    theta = math.degrees(math.atan(theta_solve_init)) \n",
    "    return theta"
   ]
  },
  {
   "cell_type": "markdown",
   "id": "e3335bff",
   "metadata": {},
   "source": [
    "### Coulomb Earth Pressure Theory"
   ]
  },
  {
   "cell_type": "markdown",
   "id": "0553ec3e",
   "metadata": {},
   "source": [
    "#### Static Active Pressure Coefficient\n",
    "\n",
    "$$ \\psi_{active} = \\left[ 1 + \\sqrt{ \\frac{ sin \\left( \\theta_{friction} - \\delta \\right) sin \\left( \\theta_{friction} - i \\right) } { cos \\left( \\delta - i \\right) cos \\left( i - \\beta \\right) } } \\right]^{2} $$ \n",
    "\n",
    "$$ KA = \\frac{ cos^{2} \\left( \\theta_{friction} + \\beta \\right) }{ \\psi_{active} cos^{2} \\left( \\beta \\right) cos \\left( \\delta  - \\beta \\right) } $$ \n",
    "\n",
    "#### Static Active Earth Pressure \n",
    "\n",
    "$$ P_{A} = \\frac{1}{2} \\gamma H^{2} K_{A} $$ "
   ]
  },
  {
   "cell_type": "code",
   "execution_count": 40,
   "id": "d84dc80b",
   "metadata": {},
   "outputs": [],
   "source": [
    "def staticActivePressureCoefficient(angle_of_friction,delta_angle,beta_angle,backfill_slope_angle):\n",
    "    PSIA = math.sin( math.radians(angle_of_friction) + math.radians(delta_angle) ) * math.sin( math.radians(angle_of_friction) - math.radians(backfill_slope_angle))\n",
    "    PSIB = math.cos( math.radians(delta_angle) + math.radians(beta_angle)) * math.cos( math.radians(backfill_slope_angle) - math.radians(beta_angle))\n",
    "    PSI_init = 1 + math.sqrt(PSIA/PSIB)\n",
    "    PSIactive = math.pow(PSI_init,2)\n",
    "    return PSIactive   \n",
    "\n",
    "def KA(psi_active,angle_of_friction,beta_angle,delta_angle):\n",
    "    A = math.pow( math.cos( math.radians(angle_of_friction) ) - math.radians(beta_angle),2) \n",
    "    B = psi_active*math.pow( math.cos( math.radians(beta_angle) ),2 ) * math.cos( math.radians(delta_angle) - math.radians(beta_angle))\n",
    "    value = A/B\n",
    "    return value \n",
    "\n",
    "def PA(sw,height,ka):\n",
    "    value = (1/2)*sw*math.pow(height,2)*ka\n",
    "    return value"
   ]
  },
  {
   "cell_type": "markdown",
   "id": "6c131dd4",
   "metadata": {},
   "source": [
    "### MONONOBE-OKABE THEORY "
   ]
  },
  {
   "cell_type": "markdown",
   "id": "d9407e09",
   "metadata": {},
   "source": [
    "#### Dynamic Active Pressure Coefficient\n",
    "$$ \\psi_{dynamic} = \\left[ 1 + \\frac{ sin\\left( \\theta_{friction} - \\delta \\right) sin\\left( \\theta_{friction} - \\theta_{seis} - \\delta \\right) }{ cos \\left( \\delta - \\beta - \\theta_{seis} \\right)cos\\left( i - \\beta \\right) } \\right] $$ \n",
    "\n",
    "#### Active coefficient with seismic effect \n",
    "\n",
    "$$ k_{AE} = \\frac{ cos \\left( \\theta_{friction} - \\theta_{seis} - \\beta \\right)  }{ \\psi_{dynamic} cos\\left( \\theta_{seis} \\right) cos^{2}\\left( \\beta \\right) cos \\left( \\delta - \\beta - \\theta_{seis} \\right) } $$ \n",
    "\n",
    "#### Dynamic  Active Earth Pressure \n",
    "\n",
    "$$ P_{AE} = \\frac{1}{2} \\gamma H^{2} K_{AE} $$ "
   ]
  },
  {
   "cell_type": "code",
   "execution_count": null,
   "id": "1a23cc4f",
   "metadata": {},
   "outputs": [],
   "source": []
  }
 ],
 "metadata": {
  "kernelspec": {
   "display_name": "Python 3 (ipykernel)",
   "language": "python",
   "name": "python3"
  },
  "language_info": {
   "codemirror_mode": {
    "name": "ipython",
    "version": 3
   },
   "file_extension": ".py",
   "mimetype": "text/x-python",
   "name": "python",
   "nbconvert_exporter": "python",
   "pygments_lexer": "ipython3",
   "version": "3.9.13"
  }
 },
 "nbformat": 4,
 "nbformat_minor": 5
}
