{
 "cells": [
  {
   "cell_type": "code",
   "execution_count": 5,
   "id": "29b68d5b",
   "metadata": {},
   "outputs": [],
   "source": [
    "import math"
   ]
  },
  {
   "cell_type": "code",
   "execution_count": 26,
   "id": "5ca9dbba",
   "metadata": {},
   "outputs": [],
   "source": [
    "soil_weight = 18\n",
    "sof = 30 ##Soil Angle of Friction\n",
    "afws = 16.50 ##delta\n",
    "sbw = 0 ##beta\n",
    "back_fill_angle = 0 ##i"
   ]
  },
  {
   "cell_type": "markdown",
   "id": "8cbfec12",
   "metadata": {},
   "source": [
    "### Mononobe-Okabe Analysis"
   ]
  },
  {
   "cell_type": "markdown",
   "id": "63ab668a",
   "metadata": {},
   "source": [
    "#### Inclination of horizontal acceleration : \n",
    "$$ \\theta_{sies} = tan^{-1} \\left( \\frac{ k_{h} }{ 1.0 - k_{v} } \\right) $$"
   ]
  },
  {
   "cell_type": "code",
   "execution_count": 16,
   "id": "8812d556",
   "metadata": {},
   "outputs": [],
   "source": [
    "def incHorAcc(kh,kv):\n",
    "    theta_solve_init = kh/(1-kv)\n",
    "    theta = math.degrees(math.atan(theta_solve_init)) \n",
    "    return theta"
   ]
  },
  {
   "cell_type": "markdown",
   "id": "8a7940a7",
   "metadata": {},
   "source": [
    "### Coulomb Earth Pressure Theory"
   ]
  },
  {
   "cell_type": "markdown",
   "id": "90a4e0dc",
   "metadata": {},
   "source": [
    "#### Static Active Pressure Coefficient\n",
    "\n",
    "$$ \\psi_{active} = \\left[ 1 + \\sqrt{ \\frac{ sin \\left( \\theta_{friction} - \\delta \\right) sin \\left( \\theta_{friction} - i \\right) } { cos \\left( \\delta - i \\right) cos \\left( i - \\beta \\right) } } \\right]^{2} $$ \n",
    "\n",
    "$$ KA = \\frac{ cos^{2} \\left( \\theta_{friction} + \\beta \\right) }{ \\psi_{active} cos^{2} \\left( \\beta \\right) cos \\left( \\delta  - \\beta \\right) } $$ \n",
    "\n",
    "#### Static Active Earth Pressure \n",
    "\n",
    "$$ P_{A} = \\frac{1}{2} \\gamma H^{2} K_{A} $$ "
   ]
  },
  {
   "cell_type": "code",
   "execution_count": 27,
   "id": "d4c4f27f",
   "metadata": {},
   "outputs": [
    {
     "data": {
      "text/plain": [
       "2.6083279533913264"
      ]
     },
     "execution_count": 27,
     "metadata": {},
     "output_type": "execute_result"
    }
   ],
   "source": [
    "def staticActivePressureCoefficient(angle_of_friction,delta_angle,beta_angle,backfill_slope_angle):\n",
    "    PSIA = math.sin( math.radians(angle_of_friction) + math.radians(delta_angle) ) * math.sin( math.radians(angle_of_friction) - math.radians(backfill_slope_angle))\n",
    "    PSIB = math.cos( math.radians(delta_angle) + math.radians(beta_angle)) * math.cos( math.radians(backfill_slope_angle) - math.radians(beta_angle))\n",
    "    PSI_init = 1 + math.sqrt(PSIA/PSIB)\n",
    "    PSIactive = math.pow(PSI_init,2)\n",
    "    return PSIactive   \n"
   ]
  },
  {
   "cell_type": "markdown",
   "id": "e271779f",
   "metadata": {},
   "source": [
    "### MONONOBE-OKABE THEORY "
   ]
  },
  {
   "cell_type": "markdown",
   "id": "7de2fad0",
   "metadata": {},
   "source": [
    "#### Dynamic Active Pressure Coefficient\n",
    "$$ \\psi_{dynamic} = \\left[ 1 + \\frac{ sin\\left( \\theta_{friction} - \\delta \\right) sin\\left( \\theta_{friction} - \\theta_{seis} - \\delta \\right) }{ cos \\left( \\delta - \\beta - \\theta_{seis} \\right)cos\\left( i - \\beta \\right) } \\right] $$ \n",
    "\n",
    "#### Active coefficient with seismic effect \n",
    "\n",
    "$$ k_{AE} = \\frac{ cos \\left( \\theta_{friction} - \\theta_{seis} - \\beta \\right)  }{ \\psi_{dynamic} cos\\left( \\theta_{seis} \\right) cos^{2}\\left( \\beta \\right) cos \\left( \\delta - \\beta - \\theta_{seis} \\right) } $$ \n",
    "\n",
    "#### Dynamic  Active Earth Pressure \n",
    "\n",
    "$$ P_{AE} = \\frac{1}{2} \\gamma H^{2} K_{AE} $$ "
   ]
  },
  {
   "cell_type": "code",
   "execution_count": null,
   "id": "25bf3418",
   "metadata": {},
   "outputs": [],
   "source": []
  }
 ],
 "metadata": {
  "kernelspec": {
   "display_name": "Python 3 (ipykernel)",
   "language": "python",
   "name": "python3"
  },
  "language_info": {
   "codemirror_mode": {
    "name": "ipython",
    "version": 3
   },
   "file_extension": ".py",
   "mimetype": "text/x-python",
   "name": "python",
   "nbconvert_exporter": "python",
   "pygments_lexer": "ipython3",
   "version": "3.9.13"
  }
 },
 "nbformat": 4,
 "nbformat_minor": 5
}
