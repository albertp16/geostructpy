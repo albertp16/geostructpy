{
 "cells": [
  {
   "cell_type": "code",
   "execution_count": 2,
   "id": "029175bb",
   "metadata": {},
   "outputs": [],
   "source": [
    "import math"
   ]
  },
  {
   "cell_type": "code",
   "execution_count": 3,
   "id": "4a72d135",
   "metadata": {},
   "outputs": [
    {
     "name": "stdout",
     "output_type": "stream",
     "text": [
      "soil_weight = 7.2\n",
      "angle_friction = 40\n",
      "angle_embankment = 0\n",
      "angle_inclination = 90\n",
      "angle_friction_wall_soil = 20\n"
     ]
    }
   ],
   "source": [
    "## INPUTS\n",
    "soil_weight = 7.2\n",
    "h_wall = 1.00  \n",
    "angle_friction = 40 ##theta\n",
    "angle_embankment = 0 #alpha\n",
    "angle_inclination = 90 ##beta\n",
    "angle_friction_wall_soil = 20 ##delta\n",
    "\n",
    "print('soil_weight = ' + str(soil_weight))\n",
    "print('angle_friction = ' + str(angle_friction))\n",
    "print('angle_embankment = ' + str(angle_embankment))\n",
    "print('angle_inclination = ' + str(angle_inclination))\n",
    "print('angle_friction_wall_soil = ' + str(angle_friction_wall_soil))\n"
   ]
  },
  {
   "cell_type": "code",
   "execution_count": 4,
   "id": "29b7bca5",
   "metadata": {},
   "outputs": [],
   "source": [
    "##Seismic Paramters \n",
    "PGA = 0.49\n",
    "kh = 0.5*PGA\n",
    "kv = 0"
   ]
  },
  {
   "cell_type": "code",
   "execution_count": 5,
   "id": "58d62ae4",
   "metadata": {},
   "outputs": [
    {
     "name": "stdout",
     "output_type": "stream",
     "text": [
      "0.245\n",
      "13.766300685466257\n"
     ]
    },
    {
     "data": {
      "text/plain": [
       "13.766300685466257"
      ]
     },
     "execution_count": 5,
     "metadata": {},
     "output_type": "execute_result"
    }
   ],
   "source": [
    "def incHorAcc(kh,kv):\n",
    "    theta_solve_init = kh/(1-kv)\n",
    "    print(theta_solve_init)\n",
    "    theta = math.atan(theta_solve_init)\n",
    "    toDegree = theta * 180 / math.pi\n",
    "    print(toDegree)\n",
    "    return toDegree\n",
    "\n",
    "coefficient_seis = incHorAcc(kh,kv)\n",
    "coefficient_seis"
   ]
  },
  {
   "cell_type": "code",
   "execution_count": 6,
   "id": "8c4f96a4",
   "metadata": {},
   "outputs": [
    {
     "data": {
      "text/plain": [
       "0.35721239031346075"
      ]
     },
     "execution_count": 6,
     "metadata": {},
     "output_type": "execute_result"
    }
   ],
   "source": [
    "#At-rest Eart Pressure\n",
    "ko = 1 - math.sin(math.radians(angle_friction))\n",
    "ko"
   ]
  },
  {
   "cell_type": "markdown",
   "id": "00fd0de8",
   "metadata": {},
   "source": [
    "$K_{A} = \\frac{ sin(\\beta + \\theta)^{2} }{ sin(\\beta)^{2} sin(\\beta - \\delta) }$"
   ]
  },
  {
   "cell_type": "code",
   "execution_count": 7,
   "id": "3b585f48",
   "metadata": {},
   "outputs": [
    {
     "data": {
      "text/plain": [
       "0.1994050488515207"
      ]
     },
     "execution_count": 7,
     "metadata": {},
     "output_type": "execute_result"
    }
   ],
   "source": [
    "def staticActivePressureCoefficient(alpha,beta,delta,phi):\n",
    "    \n",
    "    varia_a = math.pow( math.sin(math.radians(beta + phi)),2) #okay\n",
    "    \n",
    "    varia_b = math.sin(math.radians(phi + delta))*math.sin(math.radians(phi - alpha))     \n",
    "    varia_c = math.sin(math.radians(beta - delta))*math.sin(math.radians(beta + alpha)) \n",
    "    \n",
    "    varia_d = math.pow(1 + math.sqrt(varia_b/varia_c),2)\n",
    "    \n",
    "    \n",
    "    varia_e = math.pow(math.sin(math.radians(beta)),2)*math.sin(math.radians(beta - delta))*varia_d \n",
    "    \n",
    "    results = varia_a/varia_e\n",
    "    return results\n",
    "    \n",
    "ka = staticActivePressureCoefficient(angle_embankment,angle_inclination,angle_friction_wall_soil,angle_friction)\n",
    "ka"
   ]
  },
  {
   "cell_type": "code",
   "execution_count": 8,
   "id": "9e8c9284",
   "metadata": {},
   "outputs": [
    {
     "data": {
      "text/plain": [
       "11.771499111247088"
      ]
     },
     "execution_count": 8,
     "metadata": {},
     "output_type": "execute_result"
    }
   ],
   "source": [
    "def staticPassivePressureCoefficient(alpha,beta,delta,phi):\n",
    "    \n",
    "    varia_a = math.pow( math.sin(math.radians(beta - phi)),2) #okay\n",
    "    \n",
    "    varia_b = math.sin(math.radians(phi + delta))*math.sin(math.radians(phi + alpha))     \n",
    "    varia_c = math.sin(math.radians(beta + delta))*math.sin(math.radians(beta + alpha)) \n",
    "    \n",
    "    varia_d = math.pow(1 - math.sqrt(varia_b/varia_c),2)\n",
    "    \n",
    "    \n",
    "    varia_e = math.pow(math.sin(math.radians(beta)),2)*math.sin(math.radians(beta - delta))*varia_d \n",
    "    \n",
    "    results = varia_a/varia_e\n",
    "    return results\n",
    "\n",
    "kp = staticPassivePressureCoefficient(angle_embankment,angle_inclination,angle_friction_wall_soil,angle_friction)\n",
    "kp"
   ]
  },
  {
   "cell_type": "code",
   "execution_count": 9,
   "id": "c5430f46",
   "metadata": {},
   "outputs": [
    {
     "data": {
      "text/plain": [
       "0.3536597082364267"
      ]
     },
     "execution_count": 9,
     "metadata": {},
     "output_type": "execute_result"
    }
   ],
   "source": [
    "def staticActiveSeismicPressureCoefficient(alpha,beta,delta,phi,theta):\n",
    "    \n",
    "    varia_a = math.pow( math.sin(math.radians(beta + phi - theta)),2) \n",
    "    \n",
    "    varia_b = math.sin(math.radians(phi + delta))*math.sin(math.radians(phi - alpha - theta))     \n",
    "    varia_c = math.sin(math.radians(beta - delta - theta))*math.sin(math.radians(beta + alpha)) \n",
    "    \n",
    "    varia_d = math.pow(1 + math.sqrt(varia_b/varia_c),2)\n",
    "    \n",
    "    \n",
    "    varia_e = math.cos(math.radians(theta))*math.pow(math.sin(math.radians(beta)),2)*math.sin(math.radians(beta - delta - theta))*varia_d \n",
    "    \n",
    "    results = varia_a/varia_e\n",
    "    return results\n",
    "\n",
    "kae = staticActiveSeismicPressureCoefficient(angle_embankment,angle_inclination,angle_friction_wall_soil,angle_friction,coefficient_seis)\n",
    "kae"
   ]
  },
  {
   "cell_type": "code",
   "execution_count": 10,
   "id": "841d3050",
   "metadata": {},
   "outputs": [
    {
     "name": "stdout",
     "output_type": "stream",
     "text": [
      "0.15425465938490598\n"
     ]
    }
   ],
   "source": [
    "deltaKa = kae*(1 - kv) - ka \n",
    "print(deltaKa)"
   ]
  },
  {
   "cell_type": "code",
   "execution_count": 11,
   "id": "5521e665",
   "metadata": {},
   "outputs": [
    {
     "name": "stdout",
     "output_type": "stream",
     "text": [
      "At‐Rest Earth Pressure = 2.5719292102569176\n",
      "Active Earth Pressure = 1.435716351730949\n",
      "Passive Earth Pressure = 84.75479360097904\n",
      "Active Earth Pressure due to Seismic = 1.1106335475713232\n"
     ]
    }
   ],
   "source": [
    "## Lateral Earth Pressures\n",
    "atrestbot = h_wall*soil_weight*ko\n",
    "atactivebot = h_wall*soil_weight*ka\n",
    "atpassivebot = h_wall*soil_weight*kp\n",
    "attopseis = h_wall*soil_weight*deltaKa\n",
    "\n",
    "print(\"At‐Rest Earth Pressure = \" + str(atrestbot))\n",
    "print(\"Active Earth Pressure = \" + str(atactivebot))\n",
    "print(\"Passive Earth Pressure = \" + str(atpassivebot))\n",
    "print(\"Active Earth Pressure due to Seismic = \" + str(attopseis))"
   ]
  },
  {
   "cell_type": "code",
   "execution_count": null,
   "id": "c6c9ca89",
   "metadata": {},
   "outputs": [],
   "source": []
  }
 ],
 "metadata": {
  "kernelspec": {
   "display_name": "Python 3 (ipykernel)",
   "language": "python",
   "name": "python3"
  },
  "language_info": {
   "codemirror_mode": {
    "name": "ipython",
    "version": 3
   },
   "file_extension": ".py",
   "mimetype": "text/x-python",
   "name": "python",
   "nbconvert_exporter": "python",
   "pygments_lexer": "ipython3",
   "version": "3.9.13"
  }
 },
 "nbformat": 4,
 "nbformat_minor": 5
}
