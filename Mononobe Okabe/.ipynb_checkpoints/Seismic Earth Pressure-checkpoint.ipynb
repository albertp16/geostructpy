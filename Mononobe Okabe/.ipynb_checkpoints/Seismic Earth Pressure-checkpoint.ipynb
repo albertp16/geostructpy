{
 "cells": [
  {
   "cell_type": "code",
   "execution_count": 8,
   "id": "d331d84b",
   "metadata": {},
   "outputs": [],
   "source": [
    "import math"
   ]
  },
  {
   "cell_type": "code",
   "execution_count": 71,
   "id": "ebf382ef",
   "metadata": {},
   "outputs": [
    {
     "name": "stdout",
     "output_type": "stream",
     "text": [
      "soil_weight = 7.2\n",
      "angle_friction = 40\n",
      "angle_embankment = 0\n",
      "angle_inclination = 90\n",
      "angle_friction_wall_soil = 20\n"
     ]
    }
   ],
   "source": [
    "soil_weight = 7.2\n",
    "h_wall = 1.00  \n",
    "angle_friction = 40 ##theta\n",
    "angle_embankment = 0 #alpha\n",
    "angle_inclination = 90 ##beta\n",
    "angle_friction_wall_soil = 20 ##delta\n",
    "\n",
    "print('soil_weight = ' + str(soil_weight))\n",
    "print('angle_friction = ' + str(angle_friction))\n",
    "print('angle_embankment = ' + str(angle_embankment))\n",
    "print('angle_inclination = ' + str(angle_inclination))\n",
    "print('angle_friction_wall_soil = ' + str(angle_friction_wall_soil))\n"
   ]
  },
  {
   "cell_type": "code",
   "execution_count": 72,
   "id": "1dd1088a",
   "metadata": {},
   "outputs": [],
   "source": [
    "##Seismic Paramters \n",
    "PGA = 0.49\n",
    "kh = 0.5*PGA\n",
    "kv = 0"
   ]
  },
  {
   "cell_type": "code",
   "execution_count": 73,
   "id": "410b2cf9",
   "metadata": {},
   "outputs": [
    {
     "name": "stdout",
     "output_type": "stream",
     "text": [
      "0.245\n",
      "13.766300685466257\n"
     ]
    },
    {
     "data": {
      "text/plain": [
       "13.766300685466257"
      ]
     },
     "execution_count": 73,
     "metadata": {},
     "output_type": "execute_result"
    }
   ],
   "source": [
    "def incHorAcc(kh,kv):\n",
    "    theta_solve_init = kh/(1-kv)\n",
    "    print(theta_solve_init)\n",
    "    theta = math.atan(theta_solve_init)\n",
    "    toDegree = theta * 180 / math.pi\n",
    "    print(toDegree)\n",
    "    return toDegree\n",
    "\n",
    "coefficient_seis = incHorAcc(kh,kv)\n",
    "coefficient_seis"
   ]
  },
  {
   "cell_type": "code",
   "execution_count": 74,
   "id": "9bd723bd",
   "metadata": {},
   "outputs": [
    {
     "data": {
      "text/plain": [
       "0.35721239031346075"
      ]
     },
     "execution_count": 74,
     "metadata": {},
     "output_type": "execute_result"
    }
   ],
   "source": [
    "#At-rest Eart Pressure\n",
    "ko = 1 - math.sin(math.radians(angle_friction))\n",
    "ko"
   ]
  },
  {
   "cell_type": "markdown",
   "id": "572c7d13",
   "metadata": {},
   "source": [
    "$K_{A} = \\frac{ sin(\\beta + \\theta)^{2} }{ sin(\\beta)^{2} sin(\\beta - \\delta) }$"
   ]
  },
  {
   "cell_type": "code",
   "execution_count": 75,
   "id": "c3a6e622",
   "metadata": {},
   "outputs": [
    {
     "data": {
      "text/plain": [
       "0.1994050488515207"
      ]
     },
     "execution_count": 75,
     "metadata": {},
     "output_type": "execute_result"
    }
   ],
   "source": [
    "def staticActivePressureCoefficient(alpha,beta,delta,phi):\n",
    "    \n",
    "    varia_a = math.pow( math.sin(math.radians(beta + phi)),2) #okay\n",
    "    \n",
    "    varia_b = math.sin(math.radians(phi + delta))*math.sin(math.radians(phi - alpha))     \n",
    "    varia_c = math.sin(math.radians(beta - delta))*math.sin(math.radians(beta + alpha)) \n",
    "    \n",
    "    varia_d = math.pow(1 + math.sqrt(varia_b/varia_c),2)\n",
    "    \n",
    "    \n",
    "    varia_e = math.pow(math.sin(math.radians(beta)),2)*math.sin(math.radians(beta - delta))*varia_d \n",
    "    \n",
    "    results = varia_a/varia_e\n",
    "    return results\n",
    "    \n",
    "ka = staticActivePressureCoefficient(angle_embankment,angle_inclination,angle_friction_wall_soil,angle_friction)\n",
    "ka"
   ]
  },
  {
   "cell_type": "code",
   "execution_count": 82,
   "id": "5d60c0fa",
   "metadata": {},
   "outputs": [
    {
     "data": {
      "text/plain": [
       "11.771499111247088"
      ]
     },
     "execution_count": 82,
     "metadata": {},
     "output_type": "execute_result"
    }
   ],
   "source": [
    "def staticPassivePressureCoefficient(alpha,beta,delta,phi):\n",
    "    \n",
    "    varia_a = math.pow( math.sin(math.radians(beta - phi)),2) #okay\n",
    "    \n",
    "    varia_b = math.sin(math.radians(phi + delta))*math.sin(math.radians(phi + alpha))     \n",
    "    varia_c = math.sin(math.radians(beta + delta))*math.sin(math.radians(beta + alpha)) \n",
    "    \n",
    "    varia_d = math.pow(1 - math.sqrt(varia_b/varia_c),2)\n",
    "    \n",
    "    \n",
    "    varia_e = math.pow(math.sin(math.radians(beta)),2)*math.sin(math.radians(beta - delta))*varia_d \n",
    "    \n",
    "    results = varia_a/varia_e\n",
    "    return results\n",
    "\n",
    "kp = staticPassivePressureCoefficient(angle_embankment,angle_inclination,angle_friction_wall_soil,angle_friction)\n",
    "kp"
   ]
  },
  {
   "cell_type": "code",
   "execution_count": 83,
   "id": "83c99671",
   "metadata": {},
   "outputs": [
    {
     "data": {
      "text/plain": [
       "0.3536597082364267"
      ]
     },
     "execution_count": 83,
     "metadata": {},
     "output_type": "execute_result"
    }
   ],
   "source": [
    "def staticActiveSeismicPressureCoefficient(alpha,beta,delta,phi,theta):\n",
    "    \n",
    "    varia_a = math.pow( math.sin(math.radians(beta + phi - theta)),2) \n",
    "    \n",
    "    varia_b = math.sin(math.radians(phi + delta))*math.sin(math.radians(phi - alpha - theta))     \n",
    "    varia_c = math.sin(math.radians(beta - delta - theta))*math.sin(math.radians(beta + alpha)) \n",
    "    \n",
    "    varia_d = math.pow(1 + math.sqrt(varia_b/varia_c),2)\n",
    "    \n",
    "    \n",
    "    varia_e = math.cos(math.radians(theta))*math.pow(math.sin(math.radians(beta)),2)*math.sin(math.radians(beta - delta - theta))*varia_d \n",
    "    \n",
    "    results = varia_a/varia_e\n",
    "    return results\n",
    "\n",
    "kae = staticActiveSeismicPressureCoefficient(angle_embankment,angle_inclination,angle_friction_wall_soil,angle_friction,coefficient_seis)\n",
    "kae"
   ]
  },
  {
   "cell_type": "code",
   "execution_count": 84,
   "id": "702e9bba",
   "metadata": {},
   "outputs": [
    {
     "name": "stdout",
     "output_type": "stream",
     "text": [
      "0.15425465938490598\n"
     ]
    }
   ],
   "source": [
    "\n",
    "deltaKa = kae*(1 - kv) - ka \n",
    "print(deltaKa)"
   ]
  },
  {
   "cell_type": "code",
   "execution_count": 90,
   "id": "5b3e074a",
   "metadata": {},
   "outputs": [
    {
     "name": "stdout",
     "output_type": "stream",
     "text": [
      "At‐Rest Earth Pressure = 2.5719292102569176\n",
      "Active Earth Pressure = 1.435716351730949\n",
      "Passive Earth Pressure = 84.75479360097904\n",
      "Active Earth Pressure due to Seismic = 1.1106335475713232\n"
     ]
    }
   ],
   "source": [
    "## Lateral Earth Pressures\n",
    "atrestbot = h_wall*soil_weight*ko\n",
    "atactivebot = h_wall*soil_weight*ka\n",
    "atpassivebot = h_wall*soil_weight*kp\n",
    "attopseis = h_wall*soil_weight*deltaKa\n",
    "\n",
    "print(\"At‐Rest Earth Pressure = \" + str(atrestbot))\n",
    "print(\"Active Earth Pressure = \" + str(atactivebot))\n",
    "print(\"Passive Earth Pressure = \" + str(atpassivebot))\n",
    "print(\"Active Earth Pressure due to Seismic = \" + str(attopseis))"
   ]
  },
  {
   "cell_type": "markdown",
   "id": "02d50cac",
   "metadata": {},
   "source": [
    "### Mononobe-Okabe Analysis"
   ]
  },
  {
   "cell_type": "markdown",
   "id": "16d20d68",
   "metadata": {},
   "source": [
    "#### Inclination of horizontal acceleration : \n",
    "$$ \\theta_{sies} = tan^{-1} \\left( \\frac{ k_{h} }{ 1.0 - k_{v} } \\right) $$"
   ]
  },
  {
   "cell_type": "markdown",
   "id": "b9b3110f",
   "metadata": {},
   "source": [
    "### Coulomb Earth Pressure Theory"
   ]
  },
  {
   "cell_type": "markdown",
   "id": "0d494601",
   "metadata": {},
   "source": [
    "#### Static Active Pressure Coefficient\n",
    "\n",
    "$$ \\psi_{active} = \\left[ 1 + \\sqrt{ \\frac{ sin \\left( \\theta_{friction} - \\delta \\right) sin \\left( \\theta_{friction} - i \\right) } { cos \\left( \\delta - i \\right) cos \\left( i - \\beta \\right) } } \\right]^{2} $$ \n",
    "\n",
    "$$ KA = \\frac{ cos^{2} \\left( \\theta_{friction} + \\beta \\right) }{ \\psi_{active} cos^{2} \\left( \\beta \\right) cos \\left( \\delta  - \\beta \\right) } $$ \n",
    "\n",
    "#### Static Active Earth Pressure \n",
    "\n",
    "$$ P_{A} = \\frac{1}{2} \\gamma H^{2} K_{A} $$ "
   ]
  },
  {
   "cell_type": "code",
   "execution_count": 40,
   "id": "e1ec0a63",
   "metadata": {},
   "outputs": [],
   "source": [
    "def staticActivePressureCoefficient(angle_of_friction,delta_angle,beta_angle,backfill_slope_angle):\n",
    "    PSIA = math.sin( math.radians(angle_of_friction) + math.radians(delta_angle) ) * math.sin( math.radians(angle_of_friction) - math.radians(backfill_slope_angle))\n",
    "    PSIB = math.cos( math.radians(delta_angle) + math.radians(beta_angle)) * math.cos( math.radians(backfill_slope_angle) - math.radians(beta_angle))\n",
    "    PSI_init = 1 + math.sqrt(PSIA/PSIB)\n",
    "    PSIactive = math.pow(PSI_init,2)\n",
    "    return PSIactive   \n",
    "\n",
    "def KA(psi_active,angle_of_friction,beta_angle,delta_angle):\n",
    "    A = math.pow( math.cos( math.radians(angle_of_friction) ) - math.radians(beta_angle),2) \n",
    "    B = psi_active*math.pow( math.cos( math.radians(beta_angle) ),2 ) * math.cos( math.radians(delta_angle) - math.radians(beta_angle))\n",
    "    value = A/B\n",
    "    return value \n",
    "\n",
    "def PA(sw,height,ka):\n",
    "    value = (1/2)*sw*math.pow(height,2)*ka\n",
    "    return value"
   ]
  },
  {
   "cell_type": "markdown",
   "id": "74ec619f",
   "metadata": {},
   "source": [
    "### MONONOBE-OKABE THEORY "
   ]
  },
  {
   "cell_type": "markdown",
   "id": "bc2601db",
   "metadata": {},
   "source": [
    "#### Dynamic Active Pressure Coefficient\n",
    "$$ \\psi_{dynamic} = \\left[ 1 + \\frac{ sin\\left( \\theta_{friction} - \\delta \\right) sin\\left( \\theta_{friction} - \\theta_{seis} - \\delta \\right) }{ cos \\left( \\delta - \\beta - \\theta_{seis} \\right)cos\\left( i - \\beta \\right) } \\right] $$ \n",
    "\n",
    "#### Active coefficient with seismic effect \n",
    "\n",
    "$$ k_{AE} = \\frac{ cos \\left( \\theta_{friction} - \\theta_{seis} - \\beta \\right)  }{ \\psi_{dynamic} cos\\left( \\theta_{seis} \\right) cos^{2}\\left( \\beta \\right) cos \\left( \\delta - \\beta - \\theta_{seis} \\right) } $$ \n",
    "\n",
    "#### Dynamic  Active Earth Pressure \n",
    "\n",
    "$$ P_{AE} = \\frac{1}{2} \\gamma H^{2} K_{AE} $$ "
   ]
  },
  {
   "cell_type": "code",
   "execution_count": null,
   "id": "e3d343f2",
   "metadata": {},
   "outputs": [],
   "source": []
  }
 ],
 "metadata": {
  "kernelspec": {
   "display_name": "Python 3 (ipykernel)",
   "language": "python",
   "name": "python3"
  },
  "language_info": {
   "codemirror_mode": {
    "name": "ipython",
    "version": 3
   },
   "file_extension": ".py",
   "mimetype": "text/x-python",
   "name": "python",
   "nbconvert_exporter": "python",
   "pygments_lexer": "ipython3",
   "version": "3.9.13"
  }
 },
 "nbformat": 4,
 "nbformat_minor": 5
}
