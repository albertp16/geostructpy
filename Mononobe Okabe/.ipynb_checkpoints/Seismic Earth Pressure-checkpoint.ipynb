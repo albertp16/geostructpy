{
 "cells": [
  {
   "cell_type": "markdown",
   "id": "14e363dc",
   "metadata": {},
   "source": [
    "### Mononobe-Okabe Analysis"
   ]
  },
  {
   "cell_type": "markdown",
   "id": "c6ae2a72",
   "metadata": {},
   "source": [
    "#### Inclination of horizontal acceleration : \n",
    "$$ \\theta_{sies} = tan^{-1} \\left( \\frac{ k_{h} }{ 1.0 - k_{v} } \\right) $$"
   ]
  },
  {
   "cell_type": "markdown",
   "id": "c88358f8",
   "metadata": {},
   "source": [
    "### Coulomb Earth Pressure Theory"
   ]
  },
  {
   "cell_type": "markdown",
   "id": "6fc017d9",
   "metadata": {},
   "source": [
    "#### Static Active Pressure Coefficient\n",
    "\n",
    "$$ \\psi_{active} = \\left[ 1 + \\sqrt{ \\frac{ sin \\left( \\theta_{friction} - \\delta \\right) sin \\left( \\theta_{friction} - i \\right) } { cos \\left( \\delta - i \\right) cos \\left( i - \\beta \\right) } } \\right]^{2} $$ \n",
    "\n",
    "$$ KA = \\frac{ cos^{2} \\left( \\theta_{friction} + \\beta \\right) }{ \\psi_{active} cos^{2} \\left( \\beta \\right) cos \\left( \\delta  - \\beta \\right) } $$ \n",
    "\n",
    "#### Static Active Earth Pressure \n",
    "\n",
    "$$ P_{A} = \\frac{1}{2} \\gamma H^{2} K_{A} $$ "
   ]
  },
  {
   "cell_type": "markdown",
   "id": "a003aca2",
   "metadata": {},
   "source": [
    "### MONONOBE-OKABE THEORY "
   ]
  },
  {
   "cell_type": "markdown",
   "id": "4fcfc6a8",
   "metadata": {},
   "source": [
    "#### Dynamic Active Pressure Coefficient\n",
    "$$ \\psi_{dynamic} = \\left[ 1 + \\frac{ sin\\left( \\theta_{friction} - \\delta \\right) sin\\left( \\theta_{friction} - \\theta_{seis} - \\delta \\right) }{ cos \\left( \\delta - \\beta - \\theta_{seis} \\right)cos\\left( i - \\beta \\right) } \\right] $$ \n",
    "\n",
    "#### Active coefficient with seismic effect \n",
    "\n",
    "$$ k_{AE} = \\frac{ cos \\left( \\theta_{friction} - \\theta_{seis} - \\beta \\right)  }{ \\psi_{dynamic} cos\\left( \\theta_{seis} \\right) cos^{2}\\left( \\beta \\right) cos \\left( \\delta - \\beta - \\theta_{seis} \\right) } $$ \n",
    "\n",
    "#### Dynamic  Active Earth Pressure \n",
    "\n",
    "$$ P_{AE} = \\frac{1}{2} \\gamma H^{2} K_{AE} $$ "
   ]
  },
  {
   "cell_type": "code",
   "execution_count": null,
   "id": "8d4fd339",
   "metadata": {},
   "outputs": [],
   "source": []
  }
 ],
 "metadata": {
  "kernelspec": {
   "display_name": "Python 3 (ipykernel)",
   "language": "python",
   "name": "python3"
  },
  "language_info": {
   "codemirror_mode": {
    "name": "ipython",
    "version": 3
   },
   "file_extension": ".py",
   "mimetype": "text/x-python",
   "name": "python",
   "nbconvert_exporter": "python",
   "pygments_lexer": "ipython3",
   "version": "3.9.13"
  }
 },
 "nbformat": 4,
 "nbformat_minor": 5
}
