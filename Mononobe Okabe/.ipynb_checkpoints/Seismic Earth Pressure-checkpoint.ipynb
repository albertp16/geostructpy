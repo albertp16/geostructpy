{
 "cells": [
  {
   "cell_type": "markdown",
   "id": "87f1d314",
   "metadata": {},
   "source": [
    "### Mononobe-Okabe Analysis"
   ]
  },
  {
   "cell_type": "markdown",
   "id": "f37d70bb",
   "metadata": {},
   "source": [
    "#### Inclination of horizontal acceleration : \n",
    "$$ \\theta_{sies} = tan^{-1} \\left( \\frac{ k_{h} }{ 1.0 - k_{v} } \\right) $$"
   ]
  },
  {
   "cell_type": "markdown",
   "id": "84783fcf",
   "metadata": {},
   "source": [
    "### Coulomb Earth Pressure Theory"
   ]
  },
  {
   "cell_type": "markdown",
   "id": "0fe4d542",
   "metadata": {},
   "source": [
    "#### Static Active Pressure Coefficient"
   ]
  },
  {
   "cell_type": "code",
   "execution_count": null,
   "id": "f85be59f",
   "metadata": {},
   "outputs": [],
   "source": []
  }
 ],
 "metadata": {
  "kernelspec": {
   "display_name": "Python 3 (ipykernel)",
   "language": "python",
   "name": "python3"
  },
  "language_info": {
   "codemirror_mode": {
    "name": "ipython",
    "version": 3
   },
   "file_extension": ".py",
   "mimetype": "text/x-python",
   "name": "python",
   "nbconvert_exporter": "python",
   "pygments_lexer": "ipython3",
   "version": "3.9.13"
  }
 },
 "nbformat": 4,
 "nbformat_minor": 5
}
