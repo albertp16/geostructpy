{
 "cells": [
  {
   "cell_type": "code",
   "execution_count": 14,
   "id": "86a37431",
   "metadata": {},
   "outputs": [
    {
     "name": "stdout",
     "output_type": "stream",
     "text": [
      "Node\n",
      "Load\n",
      "FX (kN)\n",
      "FY (kN)\n",
      "FZ (kN)\n",
      "MX (kN*m)\n",
      "MY (kN*m)\n",
      "MZ (kN*m)\n"
     ]
    }
   ],
   "source": [
    "import pandas as pd\n",
    "\n",
    "df = pd.read_excel('reaction.xlsx')\n",
    "data_length = len(df)\n",
    "\n",
    "#print(df)\n",
    "\n",
    "fy_arr = []\n",
    "mx_arr = []\n",
    "my_arr = []\n",
    "\n",
    "\n",
    "for i in df:\n",
    "    print(i)\n",
    "# i = 0\n",
    "# while i < data_length:\n",
    "#     while j < \n",
    "#     i += 1\n",
    "\n",
    "export_spmat = ''\n",
    "\n",
    "\n"
   ]
  },
  {
   "cell_type": "code",
   "execution_count": null,
   "id": "cca54510",
   "metadata": {},
   "outputs": [],
   "source": []
  }
 ],
 "metadata": {
  "kernelspec": {
   "display_name": "Python 3 (ipykernel)",
   "language": "python",
   "name": "python3"
  },
  "language_info": {
   "codemirror_mode": {
    "name": "ipython",
    "version": 3
   },
   "file_extension": ".py",
   "mimetype": "text/x-python",
   "name": "python",
   "nbconvert_exporter": "python",
   "pygments_lexer": "ipython3",
   "version": "3.9.13"
  }
 },
 "nbformat": 4,
 "nbformat_minor": 5
}
