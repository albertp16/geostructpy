{
 "cells": [
  {
   "cell_type": "markdown",
   "id": "e1c4995b",
   "metadata": {},
   "source": [
    "## ALBERT PAMONAG\n",
    "ST122052 <br>\n",
    "EXAM SOLUTIONS PART 2 ITEM NO. 4"
   ]
  },
  {
   "cell_type": "markdown",
   "id": "e8ff6449",
   "metadata": {},
   "source": [
    "### GIVEN"
   ]
  },
  {
   "cell_type": "code",
   "execution_count": 9,
   "id": "062b56a6",
   "metadata": {},
   "outputs": [],
   "source": [
    "import pandas as pd\n",
    "data = {\n",
    "    \"1\" : {\n",
    "        \"length\" : 20,\n",
    "        \"ysat\" : 118,\n",
    "        \"cu\" : 700,\n",
    "        \"PI\" : 15\n",
    "    },\n",
    "    \"2\" : {\n",
    "        \"length\" : 40,\n",
    "        \"ysat\" : 122.4,\n",
    "        \"cu\" : 1500,\n",
    "        \"PI\" : 20\n",
    "    },    \n",
    "}\n"
   ]
  },
  {
   "cell_type": "markdown",
   "id": "f1918950",
   "metadata": {},
   "source": [
    "Note: \n",
    "\n",
    "Atmosphere pressure = 2000 lb/ft^2\n"
   ]
  },
  {
   "cell_type": "markdown",
   "id": "8c7a1691",
   "metadata": {},
   "source": [
    "Variation of $ \\alpha $ (Interpolated values based on Terrzaghi, Peck and Mesri, 1996)"
   ]
  },
  {
   "cell_type": "code",
   "execution_count": 10,
   "id": "f7f58fd7",
   "metadata": {},
   "outputs": [],
   "source": [
    "Pa = 2000 ##Atmospheric Pressure\n",
    "\n",
    "alpha = {\n",
    "    \"0.1\" : 1,\n",
    "    \"0.2\" : 0.92,\n",
    "    \"0.3\" : 0.82,\n",
    "    \"0.4\" : 0.74,\n",
    "    \"0.6\" : 0.62,\n",
    "    \"0.8\" : 0.54,\n",
    "    \"1.0\" : 0.48,\n",
    "    \"1.2\" : 0.42,\n",
    "    \"1.4\" : 0.40,\n",
    "    \"1.6\" : 0.38,\n",
    "    \"1.8\" : 0.36,\n",
    "    \"2.0\" : 0.35,\n",
    "    \"2.4\" : 0.34,\n",
    "    \"2.8\" : 0.34,\n",
    "}"
   ]
  },
  {
   "cell_type": "markdown",
   "id": "70a6494f",
   "metadata": {},
   "source": [
    "### The Ultimate side resistance\n",
    "\n",
    "<center>$ Q_{s} = \\sum_{}^{} \\alpha c_{u} \\rho \\Delta L $</center>"
   ]
  },
  {
   "cell_type": "code",
   "execution_count": 16,
   "id": "24843a96",
   "metadata": {},
   "outputs": [],
   "source": [
    "def usr(alpha,cu,perimeter,length):\n",
    "    value = alpha*cu*perimeter*length \n",
    "    return value"
   ]
  },
  {
   "cell_type": "markdown",
   "id": "055c58ee",
   "metadata": {},
   "source": [
    "### Interpolation Function"
   ]
  },
  {
   "cell_type": "code",
   "execution_count": 65,
   "id": "5ba2629a",
   "metadata": {},
   "outputs": [],
   "source": [
    "def topBottomSearch(value,data):\n",
    "\n",
    "    for i in data:\n",
    "        index_one = float(i)\n",
    "        if(index_one > value):\n",
    "            bottom = index_one\n",
    "            bottom_index = i\n",
    "            break\n",
    "\n",
    "    for i in data:\n",
    "        index_one = float(i)\n",
    "        if(index_one < value):\n",
    "            top = index_one\n",
    "            top_index = i\n",
    "    results = {\n",
    "        'top' : top,\n",
    "        'bottom' : bottom\n",
    "        }\n",
    "    return results\n",
    "\n",
    "def interpolate(Y1,Y2,X1,X2,X):\n",
    "    xdiff = max(X1,X2) - min(X1,X2)\n",
    "    ydiff = max(Y1,Y2) - min(Y1,Y2)\n",
    "    x_init = max(X1,X2) - X\n",
    "    value_2 = x_init/xdiff\n",
    "    value = min(Y1,Y2) + value_2*ydiff\n",
    "#     print(value)\n",
    "    return value\n",
    "# interpolate(0.82,0.74,0.3,0.4,0.35)"
   ]
  },
  {
   "cell_type": "markdown",
   "id": "9e520d15",
   "metadata": {},
   "source": [
    "### SOLUTION USING PYTHON PROGRAMMING LANGUAGE"
   ]
  },
  {
   "cell_type": "code",
   "execution_count": 67,
   "id": "3180388e",
   "metadata": {},
   "outputs": [
    {
     "data": {
      "text/html": [
       "<div>\n",
       "<style scoped>\n",
       "    .dataframe tbody tr th:only-of-type {\n",
       "        vertical-align: middle;\n",
       "    }\n",
       "\n",
       "    .dataframe tbody tr th {\n",
       "        vertical-align: top;\n",
       "    }\n",
       "\n",
       "    .dataframe thead th {\n",
       "        text-align: right;\n",
       "    }\n",
       "</style>\n",
       "<table border=\"1\" class=\"dataframe\">\n",
       "  <thead>\n",
       "    <tr style=\"text-align: right;\">\n",
       "      <th></th>\n",
       "      <th>Desciption</th>\n",
       "      <th>Length (ft)</th>\n",
       "      <th>Cu</th>\n",
       "      <th>Cu/Pa</th>\n",
       "      <th>Alpha</th>\n",
       "      <th>Perimeter</th>\n",
       "      <th>Ultimate Skin Friction (lbs)</th>\n",
       "    </tr>\n",
       "  </thead>\n",
       "  <tbody>\n",
       "    <tr>\n",
       "      <th>0</th>\n",
       "      <td>Layer 1</td>\n",
       "      <td>20</td>\n",
       "      <td>700</td>\n",
       "      <td>0.35</td>\n",
       "      <td>0.78</td>\n",
       "      <td>5.333333</td>\n",
       "      <td>58.24</td>\n",
       "    </tr>\n",
       "    <tr>\n",
       "      <th>1</th>\n",
       "      <td>Layer 2</td>\n",
       "      <td>40</td>\n",
       "      <td>1500</td>\n",
       "      <td>0.75</td>\n",
       "      <td>0.56</td>\n",
       "      <td>5.333333</td>\n",
       "      <td>179.20</td>\n",
       "    </tr>\n",
       "    <tr>\n",
       "      <th>2</th>\n",
       "      <td>Total</td>\n",
       "      <td>60</td>\n",
       "      <td></td>\n",
       "      <td></td>\n",
       "      <td></td>\n",
       "      <td></td>\n",
       "      <td>237.44</td>\n",
       "    </tr>\n",
       "  </tbody>\n",
       "</table>\n",
       "</div>"
      ],
      "text/plain": [
       "  Desciption  Length (ft)    Cu Cu/Pa Alpha Perimeter  \\\n",
       "0    Layer 1           20   700  0.35  0.78  5.333333   \n",
       "1    Layer 2           40  1500  0.75  0.56  5.333333   \n",
       "2      Total           60                               \n",
       "\n",
       "   Ultimate Skin Friction (lbs)  \n",
       "0                         58.24  \n",
       "1                        179.20  \n",
       "2                        237.44  "
      ]
     },
     "execution_count": 67,
     "metadata": {},
     "output_type": "execute_result"
    }
   ],
   "source": [
    "perimeter = (16*4)/12 ##ft \n",
    "pd_label = []\n",
    "pd_length = []\n",
    "pd_ratio = []\n",
    "pd_cu = []\n",
    "pd_alpha = []\n",
    "pd_skin = []\n",
    "pd_peri = []\n",
    "total_length = 0\n",
    "total_skin = 0\n",
    "\n",
    "for i in data:\n",
    "    pd_label.append('Layer ' + str(i))\n",
    "    cu = data[i][\"cu\"]\n",
    "    length = data[i][\"length\"]\n",
    "    ratio = cu/Pa\n",
    "    pd_length.append(length)\n",
    "    pd_peri.append(perimeter)\n",
    "    pd_cu.append(cu)\n",
    "    pd_ratio.append(ratio)\n",
    "    total_length += length\n",
    "    results = topBottomSearch(ratio,alpha)\n",
    "\n",
    "    top_value = alpha[str(results['top'])]\n",
    "    bot_value = alpha[str(results['bottom'])]\n",
    "#     print(top_value)\n",
    "#     print(bot_value)\n",
    "#     print(results['top'])\n",
    "    alpha_value = interpolate(top_value,bot_value,results['top'],results['bottom'],ratio)\n",
    "    \n",
    "    pd_alpha.append(alpha_value)\n",
    "    \n",
    "    friction = usr(alpha_value,cu,perimeter,length)\n",
    "    pd_skin.append(friction/1000)\n",
    "    total_skin += friction/1000\n",
    "    \n",
    "pd_label.append('Total')\n",
    "pd_length.append(total_length)\n",
    "pd_cu.append('')\n",
    "pd_alpha.append('')\n",
    "pd_ratio.append('')\n",
    "pd_peri.append('')\n",
    "pd_skin.append(total_skin)\n",
    "\n",
    "df = pd.DataFrame({\n",
    "      'Desciption': pd_label,\n",
    "      'Length (ft)': pd_length,\n",
    "      'Cu': pd_cu,\n",
    "      'Cu/Pa': pd_ratio,\n",
    "      'Alpha': pd_alpha,\n",
    "      'Perimeter': pd_peri,\n",
    "      'Ultimate Skin Friction (lbs)': pd_skin,     \n",
    "      })\n",
    "df"
   ]
  },
  {
   "cell_type": "code",
   "execution_count": null,
   "id": "00696f48",
   "metadata": {},
   "outputs": [],
   "source": []
  },
  {
   "cell_type": "code",
   "execution_count": null,
   "id": "384cdc6d",
   "metadata": {},
   "outputs": [],
   "source": []
  }
 ],
 "metadata": {
  "kernelspec": {
   "display_name": "Python 3 (ipykernel)",
   "language": "python",
   "name": "python3"
  },
  "language_info": {
   "codemirror_mode": {
    "name": "ipython",
    "version": 3
   },
   "file_extension": ".py",
   "mimetype": "text/x-python",
   "name": "python",
   "nbconvert_exporter": "python",
   "pygments_lexer": "ipython3",
   "version": "3.9.13"
  }
 },
 "nbformat": 4,
 "nbformat_minor": 5
}
