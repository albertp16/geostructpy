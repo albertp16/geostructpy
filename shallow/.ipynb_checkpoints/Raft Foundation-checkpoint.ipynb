{
 "cells": [
  {
   "cell_type": "markdown",
   "id": "fa61d16f",
   "metadata": {},
   "source": [
    "## ALBERT PAMONAG\n",
    "ST122052 <br>\n",
    "EXAM SOLUTIONS PART 2 ITEM NO. 2\n"
   ]
  },
  {
   "cell_type": "markdown",
   "id": "6641a14d",
   "metadata": {},
   "source": [
    "### GIVEN"
   ]
  },
  {
   "cell_type": "code",
   "execution_count": 5,
   "id": "acb61c18",
   "metadata": {},
   "outputs": [],
   "source": [
    "data = {\n",
    "        \"B\" : 20, ##ft\n",
    "        \"L\" : 30,\n",
    "        \"Df\" : 6.2, ##ft\n",
    "        \"Cu\" : 2500, ##lb/ft2\n",
    "        \"FOS\" : 2.5, \n",
    "        \"phi\" : 0\n",
    "        }\n",
    "angle = 0"
   ]
  },
  {
   "cell_type": "markdown",
   "id": "fdf55125",
   "metadata": {},
   "source": [
    "## Bearing Capacity of Mat Foundation\n",
    "<center>$ 5.14 Cu \\left[ 1 + \\frac{0.195 B}{L} \\right] \\left[ 1 + 0.4 \\frac{D_{f}}{B} \\right] $</center>"
   ]
  },
  {
   "cell_type": "code",
   "execution_count": 6,
   "id": "bd22cdc1",
   "metadata": {},
   "outputs": [
    {
     "name": "stdout",
     "output_type": "stream",
     "text": [
      "Answer: \n",
      "\n",
      "Qultimate = 16321.042 psf\n",
      "Qallow = 6528.4168 psf\n"
     ]
    }
   ],
   "source": [
    "def qu(cu,df,b,l):\n",
    "    value = 5.14*cu*(1 + (0.195*(b/l)))*(1 + (0.4*(df/b)))\n",
    "    return value\n",
    "qultimate = qu(data[\"Cu\"],data[\"Df\"],data[\"B\"],data[\"L\"])\n",
    "qallow = qultimate/data[\"FOS\"]\n",
    "\n",
    "print('Answer: \\n')\n",
    "print('Qultimate = ' + str(qultimate) + ' psf') \n",
    "print('Qallow = ' + str(qallow) + ' psf')"
   ]
  },
  {
   "cell_type": "code",
   "execution_count": null,
   "id": "209cc48c",
   "metadata": {},
   "outputs": [],
   "source": []
  }
 ],
 "metadata": {
  "kernelspec": {
   "display_name": "Python 3 (ipykernel)",
   "language": "python",
   "name": "python3"
  },
  "language_info": {
   "codemirror_mode": {
    "name": "ipython",
    "version": 3
   },
   "file_extension": ".py",
   "mimetype": "text/x-python",
   "name": "python",
   "nbconvert_exporter": "python",
   "pygments_lexer": "ipython3",
   "version": "3.9.13"
  }
 },
 "nbformat": 4,
 "nbformat_minor": 5
}
